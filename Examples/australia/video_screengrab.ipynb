{
 "cells": [
  {
   "cell_type": "code",
   "execution_count": 1,
   "metadata": {},
   "outputs": [
    {
     "name": "stdout",
     "output_type": "stream",
     "text": [
      "Creating...topo_comparison/10Dec/Screens/frame0.jpg\n",
      "Creating...topo_comparison/10Dec/Screens/frame1.jpg\n",
      "Creating...topo_comparison/10Dec/Screens/frame2.jpg\n",
      "Creating...topo_comparison/10Dec/Screens/frame3.jpg\n",
      "Creating...topo_comparison/10Dec/Screens/frame4.jpg\n",
      "Creating...topo_comparison/10Dec/Screens/frame5.jpg\n",
      "Creating...topo_comparison/10Dec/Screens/frame6.jpg\n",
      "Creating...topo_comparison/10Dec/Screens/frame7.jpg\n",
      "Creating...topo_comparison/10Dec/Screens/frame8.jpg\n",
      "Creating...topo_comparison/10Dec/Screens/frame9.jpg\n",
      "Creating...topo_comparison/10Dec/Screens/frame10.jpg\n",
      "Creating...topo_comparison/10Dec/Screens/frame11.jpg\n",
      "Creating...topo_comparison/10Dec/Screens/frame12.jpg\n",
      "Creating...topo_comparison/10Dec/Screens/frame13.jpg\n",
      "Creating...topo_comparison/10Dec/Screens/frame14.jpg\n",
      "Creating...topo_comparison/10Dec/Screens/frame15.jpg\n",
      "Creating...topo_comparison/10Dec/Screens/frame16.jpg\n",
      "Creating...topo_comparison/10Dec/Screens/frame17.jpg\n",
      "Creating...topo_comparison/10Dec/Screens/frame18.jpg\n",
      "Creating...topo_comparison/10Dec/Screens/frame19.jpg\n",
      "Creating...topo_comparison/10Dec/Screens/frame20.jpg\n",
      "Creating...topo_comparison/10Dec/Screens/frame21.jpg\n",
      "Creating...topo_comparison/10Dec/Screens/frame22.jpg\n",
      "Creating...topo_comparison/10Dec/Screens/frame23.jpg\n",
      "Creating...topo_comparison/10Dec/Screens/frame24.jpg\n",
      "Creating...topo_comparison/10Dec/Screens/frame25.jpg\n",
      "Creating...topo_comparison/10Dec/Screens/frame26.jpg\n",
      "Creating...topo_comparison/10Dec/Screens/frame27.jpg\n",
      "Creating...topo_comparison/10Dec/Screens/frame28.jpg\n",
      "Creating...topo_comparison/10Dec/Screens/frame29.jpg\n",
      "Creating...topo_comparison/10Dec/Screens/frame30.jpg\n",
      "Creating...topo_comparison/10Dec/Screens/frame31.jpg\n",
      "Creating...topo_comparison/10Dec/Screens/frame32.jpg\n",
      "Creating...topo_comparison/10Dec/Screens/frame33.jpg\n",
      "Creating...topo_comparison/10Dec/Screens/frame34.jpg\n",
      "Creating...topo_comparison/10Dec/Screens/frame35.jpg\n",
      "Creating...topo_comparison/10Dec/Screens/frame36.jpg\n",
      "Creating...topo_comparison/10Dec/Screens/frame37.jpg\n",
      "Creating...topo_comparison/10Dec/Screens/frame38.jpg\n",
      "Creating...topo_comparison/10Dec/Screens/frame39.jpg\n",
      "Creating...topo_comparison/10Dec/Screens/frame40.jpg\n",
      "Creating...topo_comparison/10Dec/Screens/frame41.jpg\n",
      "Creating...topo_comparison/10Dec/Screens/frame42.jpg\n",
      "Creating...topo_comparison/10Dec/Screens/frame43.jpg\n",
      "Creating...topo_comparison/10Dec/Screens/frame44.jpg\n",
      "Creating...topo_comparison/10Dec/Screens/frame45.jpg\n",
      "Creating...topo_comparison/10Dec/Screens/frame46.jpg\n",
      "Creating...topo_comparison/10Dec/Screens/frame47.jpg\n",
      "Creating...topo_comparison/10Dec/Screens/frame48.jpg\n",
      "Creating...topo_comparison/10Dec/Screens/frame49.jpg\n",
      "Creating...topo_comparison/10Dec/Screens/frame50.jpg\n",
      "Creating...topo_comparison/10Dec/Screens/frame51.jpg\n",
      "Creating...topo_comparison/10Dec/Screens/frame52.jpg\n",
      "Creating...topo_comparison/10Dec/Screens/frame53.jpg\n",
      "Creating...topo_comparison/10Dec/Screens/frame54.jpg\n",
      "Creating...topo_comparison/10Dec/Screens/frame55.jpg\n",
      "Creating...topo_comparison/10Dec/Screens/frame56.jpg\n",
      "Creating...topo_comparison/10Dec/Screens/frame57.jpg\n",
      "Creating...topo_comparison/10Dec/Screens/frame58.jpg\n",
      "Creating...topo_comparison/10Dec/Screens/frame59.jpg\n",
      "Creating...topo_comparison/10Dec/Screens/frame60.jpg\n",
      "Creating...topo_comparison/10Dec/Screens/frame61.jpg\n",
      "Creating...topo_comparison/10Dec/Screens/frame62.jpg\n",
      "Creating...topo_comparison/10Dec/Screens/frame63.jpg\n",
      "Creating...topo_comparison/10Dec/Screens/frame64.jpg\n",
      "Creating...topo_comparison/10Dec/Screens/frame65.jpg\n",
      "Creating...topo_comparison/10Dec/Screens/frame66.jpg\n",
      "Creating...topo_comparison/10Dec/Screens/frame67.jpg\n",
      "Creating...topo_comparison/10Dec/Screens/frame68.jpg\n",
      "Creating...topo_comparison/10Dec/Screens/frame69.jpg\n",
      "Creating...topo_comparison/10Dec/Screens/frame70.jpg\n",
      "Creating...topo_comparison/10Dec/Screens/frame71.jpg\n",
      "Creating...topo_comparison/10Dec/Screens/frame72.jpg\n",
      "Creating...topo_comparison/10Dec/Screens/frame73.jpg\n",
      "Creating...topo_comparison/10Dec/Screens/frame74.jpg\n",
      "Creating...topo_comparison/10Dec/Screens/frame75.jpg\n",
      "Creating...topo_comparison/10Dec/Screens/frame76.jpg\n",
      "Creating...topo_comparison/10Dec/Screens/frame77.jpg\n",
      "Creating...topo_comparison/10Dec/Screens/frame78.jpg\n",
      "Creating...topo_comparison/10Dec/Screens/frame79.jpg\n",
      "Creating...topo_comparison/10Dec/Screens/frame80.jpg\n",
      "Creating...topo_comparison/10Dec/Screens/frame81.jpg\n",
      "Creating...topo_comparison/10Dec/Screens/frame82.jpg\n",
      "Creating...topo_comparison/10Dec/Screens/frame83.jpg\n",
      "Creating...topo_comparison/10Dec/Screens/frame84.jpg\n",
      "Creating...topo_comparison/10Dec/Screens/frame85.jpg\n",
      "Creating...topo_comparison/10Dec/Screens/frame86.jpg\n",
      "Creating...topo_comparison/10Dec/Screens/frame87.jpg\n",
      "Creating...topo_comparison/10Dec/Screens/frame88.jpg\n",
      "Creating...topo_comparison/10Dec/Screens/frame89.jpg\n",
      "Creating...topo_comparison/10Dec/Screens/frame90.jpg\n",
      "Creating...topo_comparison/10Dec/Screens/frame91.jpg\n",
      "Creating...topo_comparison/10Dec/Screens/frame92.jpg\n",
      "Creating...topo_comparison/10Dec/Screens/frame93.jpg\n",
      "Creating...topo_comparison/10Dec/Screens/frame94.jpg\n",
      "Creating...topo_comparison/10Dec/Screens/frame95.jpg\n",
      "Creating...topo_comparison/10Dec/Screens/frame96.jpg\n",
      "Creating...topo_comparison/10Dec/Screens/frame97.jpg\n",
      "Creating...topo_comparison/10Dec/Screens/frame98.jpg\n",
      "Creating...topo_comparison/10Dec/Screens/frame99.jpg\n",
      "Creating...topo_comparison/10Dec/Screens/frame100.jpg\n",
      "Creating...topo_comparison/10Dec/Screens/frame101.jpg\n",
      "Creating...topo_comparison/10Dec/Screens/frame102.jpg\n",
      "Creating...topo_comparison/10Dec/Screens/frame103.jpg\n",
      "Creating...topo_comparison/10Dec/Screens/frame104.jpg\n",
      "Creating...topo_comparison/10Dec/Screens/frame105.jpg\n",
      "Creating...topo_comparison/10Dec/Screens/frame106.jpg\n",
      "Creating...topo_comparison/10Dec/Screens/frame107.jpg\n",
      "Creating...topo_comparison/10Dec/Screens/frame108.jpg\n",
      "Creating...topo_comparison/10Dec/Screens/frame109.jpg\n",
      "Creating...topo_comparison/10Dec/Screens/frame110.jpg\n",
      "Creating...topo_comparison/10Dec/Screens/frame111.jpg\n",
      "Creating...topo_comparison/10Dec/Screens/frame112.jpg\n",
      "Creating...topo_comparison/10Dec/Screens/frame113.jpg\n",
      "Creating...topo_comparison/10Dec/Screens/frame114.jpg\n",
      "Creating...topo_comparison/10Dec/Screens/frame115.jpg\n",
      "Creating...topo_comparison/10Dec/Screens/frame116.jpg\n",
      "Creating...topo_comparison/10Dec/Screens/frame117.jpg\n",
      "Creating...topo_comparison/10Dec/Screens/frame118.jpg\n",
      "Creating...topo_comparison/10Dec/Screens/frame119.jpg\n",
      "Creating...topo_comparison/10Dec/Screens/frame120.jpg\n",
      "Creating...topo_comparison/10Dec/Screens/frame121.jpg\n",
      "Creating...topo_comparison/10Dec/Screens/frame122.jpg\n",
      "Creating...topo_comparison/10Dec/Screens/frame123.jpg\n",
      "Creating...topo_comparison/10Dec/Screens/frame124.jpg\n",
      "Creating...topo_comparison/10Dec/Screens/frame125.jpg\n",
      "Creating...topo_comparison/10Dec/Screens/frame126.jpg\n",
      "Creating...topo_comparison/10Dec/Screens/frame127.jpg\n",
      "Creating...topo_comparison/10Dec/Screens/frame128.jpg\n",
      "Creating...topo_comparison/10Dec/Screens/frame129.jpg\n",
      "Creating...topo_comparison/10Dec/Screens/frame130.jpg\n",
      "Creating...topo_comparison/10Dec/Screens/frame131.jpg\n",
      "Creating...topo_comparison/10Dec/Screens/frame132.jpg\n",
      "Creating...topo_comparison/10Dec/Screens/frame133.jpg\n",
      "Creating...topo_comparison/10Dec/Screens/frame134.jpg\n",
      "Creating...topo_comparison/10Dec/Screens/frame135.jpg\n",
      "Creating...topo_comparison/10Dec/Screens/frame136.jpg\n",
      "Creating...topo_comparison/10Dec/Screens/frame137.jpg\n",
      "Creating...topo_comparison/10Dec/Screens/frame138.jpg\n",
      "Creating...topo_comparison/10Dec/Screens/frame139.jpg\n",
      "Creating...topo_comparison/10Dec/Screens/frame140.jpg\n",
      "Creating...topo_comparison/10Dec/Screens/frame141.jpg\n",
      "Creating...topo_comparison/10Dec/Screens/frame142.jpg\n",
      "Creating...topo_comparison/10Dec/Screens/frame143.jpg\n",
      "Creating...topo_comparison/10Dec/Screens/frame144.jpg\n",
      "Creating...topo_comparison/10Dec/Screens/frame145.jpg\n",
      "Creating...topo_comparison/10Dec/Screens/frame146.jpg\n",
      "Creating...topo_comparison/10Dec/Screens/frame147.jpg\n",
      "Creating...topo_comparison/10Dec/Screens/frame148.jpg\n",
      "Creating...topo_comparison/10Dec/Screens/frame149.jpg\n"
     ]
    }
   ],
   "source": [
    "# Importing all necessary libraries \n",
    "import cv2 \n",
    "import os \n",
    "import numpy as np\n",
    "  \n",
    "# Read the video from specified path \n",
    "cam = cv2.VideoCapture(\"topo_comparison/10Dec/pred2.avi\") \n",
    "  \n",
    "# try: \n",
    "      \n",
    "#     # creating a folder named data \n",
    "#     if not os.path.exists('screens'): \n",
    "#         os.makedirs('screens') \n",
    "  \n",
    "# # if not created then raise error \n",
    "# except OSError: \n",
    "#     print ('Error: Creating directory of screens') \n",
    "  \n",
    "# frame \n",
    "currentframe = 0\n",
    "  \n",
    "while(True): \n",
    "      \n",
    "    # reading from frame \n",
    "    ret,frame = cam.read() \n",
    "  \n",
    "    if ret: \n",
    "        # if video is still left continue creating images \n",
    "        name = 'topo_comparison/10Dec/Screens/frame' + str(currentframe) + '.jpg'\n",
    "        print ('Creating...' + name) \n",
    "  \n",
    "        # writing the extracted images \n",
    "        cv2.imwrite(name, frame) \n",
    "  \n",
    "        # increasing counter so that it will \n",
    "        # show how many frames are created \n",
    "        currentframe += 1\n",
    "    else: \n",
    "        break\n",
    "  \n",
    "# Release all space and windows once done \n",
    "cam.release() \n",
    "cv2.destroyAllWindows()"
   ]
  },
  {
   "cell_type": "code",
   "execution_count": 2,
   "metadata": {},
   "outputs": [],
   "source": [
    "a = np.loadtxt('data/final_elev.txt')"
   ]
  },
  {
   "cell_type": "code",
   "execution_count": 3,
   "metadata": {},
   "outputs": [
    {
     "name": "stdout",
     "output_type": "stream",
     "text": [
      "(129, 141)\n"
     ]
    }
   ],
   "source": [
    "print(a.shape)"
   ]
  },
  {
   "cell_type": "code",
   "execution_count": 17,
   "metadata": {},
   "outputs": [
    {
     "name": "stdout",
     "output_type": "stream",
     "text": [
      "The slowest run took 6.43 times longer than the fastest. This could mean that an intermediate result is being cached.\n",
      "100000 loops, best of 3: 4.96 µs per loop\n"
     ]
    }
   ],
   "source": [
    "timeit a[a<0] = 0"
   ]
  },
  {
   "cell_type": "code",
   "execution_count": 18,
   "metadata": {},
   "outputs": [
    {
     "data": {
      "text/plain": [
       "array([[0., 0., 0., ..., 0., 0., 0.],\n",
       "       [0., 0., 0., ..., 0., 0., 0.],\n",
       "       [0., 0., 0., ..., 0., 0., 0.],\n",
       "       ...,\n",
       "       [0., 0., 0., ..., 0., 0., 0.],\n",
       "       [0., 0., 0., ..., 0., 0., 0.],\n",
       "       [0., 0., 0., ..., 0., 0., 0.]])"
      ]
     },
     "execution_count": 18,
     "metadata": {},
     "output_type": "execute_result"
    }
   ],
   "source": [
    "a"
   ]
  },
  {
   "cell_type": "code",
   "execution_count": 19,
   "metadata": {},
   "outputs": [],
   "source": [
    "a[a>0] = 1"
   ]
  },
  {
   "cell_type": "code",
   "execution_count": 20,
   "metadata": {},
   "outputs": [
    {
     "data": {
      "text/plain": [
       "0.0"
      ]
     },
     "execution_count": 20,
     "metadata": {},
     "output_type": "execute_result"
    }
   ],
   "source": [
    "a.min()"
   ]
  },
  {
   "cell_type": "code",
   "execution_count": 21,
   "metadata": {},
   "outputs": [
    {
     "data": {
      "text/plain": [
       "1.0"
      ]
     },
     "execution_count": 21,
     "metadata": {},
     "output_type": "execute_result"
    }
   ],
   "source": [
    "a.max()"
   ]
  }
 ],
 "metadata": {
  "kernelspec": {
   "display_name": "Python 2",
   "language": "python",
   "name": "python2"
  },
  "language_info": {
   "codemirror_mode": {
    "name": "ipython",
    "version": 2
   },
   "file_extension": ".py",
   "mimetype": "text/x-python",
   "name": "python",
   "nbconvert_exporter": "python",
   "pygments_lexer": "ipython2",
   "version": "2.7.12"
  }
 },
 "nbformat": 4,
 "nbformat_minor": 2
}
