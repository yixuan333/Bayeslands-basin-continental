{
 "cells": [
  {
   "cell_type": "code",
   "execution_count": 8,
   "metadata": {},
   "outputs": [
    {
     "name": "stdout",
     "output_type": "stream",
     "text": [
      "Creating...frame0.jpg\n",
      "Creating...frame1.jpg\n",
      "Creating...frame2.jpg\n",
      "Creating...frame3.jpg\n",
      "Creating...frame4.jpg\n",
      "Creating...frame5.jpg\n",
      "Creating...frame6.jpg\n",
      "Creating...frame7.jpg\n",
      "Creating...frame8.jpg\n",
      "Creating...frame9.jpg\n",
      "Creating...frame10.jpg\n",
      "Creating...frame11.jpg\n",
      "Creating...frame12.jpg\n",
      "Creating...frame13.jpg\n",
      "Creating...frame14.jpg\n",
      "Creating...frame15.jpg\n",
      "Creating...frame16.jpg\n",
      "Creating...frame17.jpg\n",
      "Creating...frame18.jpg\n",
      "Creating...frame19.jpg\n",
      "Creating...frame20.jpg\n",
      "Creating...frame21.jpg\n",
      "Creating...frame22.jpg\n",
      "Creating...frame23.jpg\n",
      "Creating...frame24.jpg\n",
      "Creating...frame25.jpg\n",
      "Creating...frame26.jpg\n",
      "Creating...frame27.jpg\n",
      "Creating...frame28.jpg\n",
      "Creating...frame29.jpg\n",
      "Creating...frame30.jpg\n",
      "Creating...frame31.jpg\n",
      "Creating...frame32.jpg\n",
      "Creating...frame33.jpg\n",
      "Creating...frame34.jpg\n",
      "Creating...frame35.jpg\n",
      "Creating...frame36.jpg\n",
      "Creating...frame37.jpg\n",
      "Creating...frame38.jpg\n",
      "Creating...frame39.jpg\n",
      "Creating...frame40.jpg\n",
      "Creating...frame41.jpg\n",
      "Creating...frame42.jpg\n",
      "Creating...frame43.jpg\n",
      "Creating...frame44.jpg\n",
      "Creating...frame45.jpg\n",
      "Creating...frame46.jpg\n",
      "Creating...frame47.jpg\n",
      "Creating...frame48.jpg\n",
      "Creating...frame49.jpg\n",
      "Creating...frame50.jpg\n",
      "Creating...frame51.jpg\n",
      "Creating...frame52.jpg\n",
      "Creating...frame53.jpg\n",
      "Creating...frame54.jpg\n",
      "Creating...frame55.jpg\n",
      "Creating...frame56.jpg\n",
      "Creating...frame57.jpg\n",
      "Creating...frame58.jpg\n",
      "Creating...frame59.jpg\n",
      "Creating...frame60.jpg\n",
      "Creating...frame61.jpg\n",
      "Creating...frame62.jpg\n",
      "Creating...frame63.jpg\n",
      "Creating...frame64.jpg\n",
      "Creating...frame65.jpg\n",
      "Creating...frame66.jpg\n",
      "Creating...frame67.jpg\n",
      "Creating...frame68.jpg\n",
      "Creating...frame69.jpg\n",
      "Creating...frame70.jpg\n",
      "Creating...frame71.jpg\n",
      "Creating...frame72.jpg\n",
      "Creating...frame73.jpg\n",
      "Creating...frame74.jpg\n",
      "Creating...frame75.jpg\n",
      "Creating...frame76.jpg\n",
      "Creating...frame77.jpg\n",
      "Creating...frame78.jpg\n",
      "Creating...frame79.jpg\n",
      "Creating...frame80.jpg\n",
      "Creating...frame81.jpg\n",
      "Creating...frame82.jpg\n",
      "Creating...frame83.jpg\n",
      "Creating...frame84.jpg\n",
      "Creating...frame85.jpg\n",
      "Creating...frame86.jpg\n",
      "Creating...frame87.jpg\n",
      "Creating...frame88.jpg\n",
      "Creating...frame89.jpg\n",
      "Creating...frame90.jpg\n",
      "Creating...frame91.jpg\n",
      "Creating...frame92.jpg\n",
      "Creating...frame93.jpg\n",
      "Creating...frame94.jpg\n",
      "Creating...frame95.jpg\n",
      "Creating...frame96.jpg\n",
      "Creating...frame97.jpg\n",
      "Creating...frame98.jpg\n",
      "Creating...frame99.jpg\n",
      "Creating...frame100.jpg\n",
      "Creating...frame101.jpg\n",
      "Creating...frame102.jpg\n",
      "Creating...frame103.jpg\n",
      "Creating...frame104.jpg\n",
      "Creating...frame105.jpg\n",
      "Creating...frame106.jpg\n",
      "Creating...frame107.jpg\n",
      "Creating...frame108.jpg\n",
      "Creating...frame109.jpg\n",
      "Creating...frame110.jpg\n",
      "Creating...frame111.jpg\n",
      "Creating...frame112.jpg\n",
      "Creating...frame113.jpg\n",
      "Creating...frame114.jpg\n",
      "Creating...frame115.jpg\n",
      "Creating...frame116.jpg\n",
      "Creating...frame117.jpg\n",
      "Creating...frame118.jpg\n",
      "Creating...frame119.jpg\n",
      "Creating...frame120.jpg\n",
      "Creating...frame121.jpg\n",
      "Creating...frame122.jpg\n",
      "Creating...frame123.jpg\n",
      "Creating...frame124.jpg\n",
      "Creating...frame125.jpg\n",
      "Creating...frame126.jpg\n",
      "Creating...frame127.jpg\n",
      "Creating...frame128.jpg\n",
      "Creating...frame129.jpg\n",
      "Creating...frame130.jpg\n",
      "Creating...frame131.jpg\n",
      "Creating...frame132.jpg\n",
      "Creating...frame133.jpg\n",
      "Creating...frame134.jpg\n",
      "Creating...frame135.jpg\n",
      "Creating...frame136.jpg\n",
      "Creating...frame137.jpg\n",
      "Creating...frame138.jpg\n",
      "Creating...frame139.jpg\n",
      "Creating...frame140.jpg\n",
      "Creating...frame141.jpg\n",
      "Creating...frame142.jpg\n",
      "Creating...frame143.jpg\n",
      "Creating...frame144.jpg\n",
      "Creating...frame145.jpg\n",
      "Creating...frame146.jpg\n",
      "Creating...frame147.jpg\n",
      "Creating...frame148.jpg\n",
      "Creating...frame149.jpg\n",
      "Creating...frame150.jpg\n",
      "Creating...frame151.jpg\n",
      "Creating...frame152.jpg\n"
     ]
    }
   ],
   "source": [
    "# Importing all necessary libraries \n",
    "import cv2 \n",
    "import os \n",
    "import numpy as np\n",
    "  \n",
    "# Read the video from specified path \n",
    "cam = cv2.VideoCapture(\"topo_comparison/Carm/result.avi\") \n",
    "  \n",
    "# try: \n",
    "      \n",
    "#     # creating a folder named data \n",
    "#     if not os.path.exists('screens'): \n",
    "#         os.makedirs('screens') \n",
    "  \n",
    "# # if not created then raise error \n",
    "# except OSError: \n",
    "#     print ('Error: Creating directory of screens') \n",
    "  \n",
    "# frame \n",
    "currentframe = 0\n",
    "  \n",
    "while(True): \n",
    "      \n",
    "    # reading from frame \n",
    "    ret,frame = cam.read() \n",
    "  \n",
    "    if ret: \n",
    "        # if video is still left continue creating images \n",
    "        name = 'frame' + str(currentframe) + '.jpg'\n",
    "        print ('Creating...' + name) \n",
    "  \n",
    "        # writing the extracted images \n",
    "        cv2.imwrite(name, frame) \n",
    "  \n",
    "        # increasing counter so that it will \n",
    "        # show how many frames are created \n",
    "        currentframe += 1\n",
    "    else: \n",
    "        break\n",
    "  \n",
    "# Release all space and windows once done \n",
    "cam.release() \n",
    "cv2.destroyAllWindows()"
   ]
  },
  {
   "cell_type": "code",
   "execution_count": 9,
   "metadata": {},
   "outputs": [],
   "source": [
    "a = np.loadtxt('data/final_elev.txt')"
   ]
  },
  {
   "cell_type": "code",
   "execution_count": 10,
   "metadata": {},
   "outputs": [
    {
     "name": "stdout",
     "output_type": "stream",
     "text": [
      "(129, 141)\n"
     ]
    }
   ],
   "source": [
    "print(a.shape)"
   ]
  },
  {
   "cell_type": "code",
   "execution_count": 17,
   "metadata": {},
   "outputs": [
    {
     "name": "stdout",
     "output_type": "stream",
     "text": [
      "The slowest run took 6.43 times longer than the fastest. This could mean that an intermediate result is being cached.\n",
      "100000 loops, best of 3: 4.96 µs per loop\n"
     ]
    }
   ],
   "source": [
    "timeit a[a<0] = 0"
   ]
  },
  {
   "cell_type": "code",
   "execution_count": 18,
   "metadata": {},
   "outputs": [
    {
     "data": {
      "text/plain": [
       "array([[0., 0., 0., ..., 0., 0., 0.],\n",
       "       [0., 0., 0., ..., 0., 0., 0.],\n",
       "       [0., 0., 0., ..., 0., 0., 0.],\n",
       "       ...,\n",
       "       [0., 0., 0., ..., 0., 0., 0.],\n",
       "       [0., 0., 0., ..., 0., 0., 0.],\n",
       "       [0., 0., 0., ..., 0., 0., 0.]])"
      ]
     },
     "execution_count": 18,
     "metadata": {},
     "output_type": "execute_result"
    }
   ],
   "source": [
    "a"
   ]
  },
  {
   "cell_type": "code",
   "execution_count": 19,
   "metadata": {},
   "outputs": [],
   "source": [
    "a[a>0] = 1"
   ]
  },
  {
   "cell_type": "code",
   "execution_count": 20,
   "metadata": {},
   "outputs": [
    {
     "data": {
      "text/plain": [
       "0.0"
      ]
     },
     "execution_count": 20,
     "metadata": {},
     "output_type": "execute_result"
    }
   ],
   "source": [
    "a.min()"
   ]
  },
  {
   "cell_type": "code",
   "execution_count": 21,
   "metadata": {},
   "outputs": [
    {
     "data": {
      "text/plain": [
       "1.0"
      ]
     },
     "execution_count": 21,
     "metadata": {},
     "output_type": "execute_result"
    }
   ],
   "source": [
    "a.max()"
   ]
  }
 ],
 "metadata": {
  "kernelspec": {
   "display_name": "Python 2",
   "language": "python",
   "name": "python2"
  },
  "language_info": {
   "codemirror_mode": {
    "name": "ipython",
    "version": 2
   },
   "file_extension": ".py",
   "mimetype": "text/x-python",
   "name": "python",
   "nbconvert_exporter": "python",
   "pygments_lexer": "ipython2",
   "version": "2.7.12"
  }
 },
 "nbformat": 4,
 "nbformat_minor": 2
}
