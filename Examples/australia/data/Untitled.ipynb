{
 "cells": [
  {
   "cell_type": "code",
   "execution_count": 1,
   "metadata": {},
   "outputs": [],
   "source": [
    "import numpy as np\n",
    "from scipy.spatial import cKDTree\n",
    "from numpy import genfromtxt\n",
    "import matplotlib.pyplot as plt\n",
    "from __future__ import print_function, division\n",
    "import math, csv"
   ]
  },
  {
   "cell_type": "code",
   "execution_count": 2,
   "metadata": {},
   "outputs": [],
   "source": [
    "a = np.loadtxt('inittopo_groundtruthfine.txt')\n",
    "b = np.loadtxt('initial_elev.txt')"
   ]
  },
  {
   "cell_type": "code",
   "execution_count": 3,
   "metadata": {},
   "outputs": [
    {
     "name": "stdout",
     "output_type": "stream",
     "text": [
      "(20, 20)\n",
      "(129, 141)\n"
     ]
    }
   ],
   "source": [
    "print(a.shape)\n",
    "print(b.shape)"
   ]
  },
  {
   "cell_type": "code",
   "execution_count": 4,
   "metadata": {},
   "outputs": [],
   "source": [
    "d = np.empty_like(a)"
   ]
  },
  {
   "cell_type": "code",
   "execution_count": 5,
   "metadata": {},
   "outputs": [],
   "source": [
    "def bin_ndarray(ndarray, new_shape, operation='sum'):\n",
    "    \"\"\"\n",
    "    Bins an ndarray in all axes based on the target shape, by summing or\n",
    "        averaging.\n",
    "    Number of output dimensions must match number of input dimensions.\n",
    "    Example\n",
    "    -------\n",
    "    >>> m = np.arange(0,100,1).reshape((10,10))\n",
    "    >>> n = bin_ndarray(m, new_shape=(5,5), operation='sum')\n",
    "    >>> print(n)\n",
    "    [[ 22  30  38  46  54]\n",
    "     [102 110 118 126 134]\n",
    "     [182 190 198 206 214]\n",
    "     [262 270 278 286 294]\n",
    "     [342 350 358 366 374]]\n",
    "    \"\"\"\n",
    "    if not operation.lower() in ['sum', 'mean', 'average', 'avg']:\n",
    "        raise ValueError(\"Operation {} not supported.\".format(operation))\n",
    "    if ndarray.ndim != len(new_shape):\n",
    "        raise ValueError(\"Shape mismatch: {} -> {}\".format(ndarray.shape,\n",
    "                                                           new_shape))\n",
    "    compression_pairs = [(d, c//d) for d, c in zip(new_shape,\n",
    "                                                   ndarray.shape)]\n",
    "    flattened = [l for p in compression_pairs for l in p]\n",
    "    ndarray = ndarray.reshape(flattened)\n",
    "    for i in range(len(new_shape)):\n",
    "        if operation.lower() == \"sum\":\n",
    "            ndarray = ndarray.sum(-1*(i+1))\n",
    "        elif operation.lower() in [\"mean\", \"average\", \"avg\"]:\n",
    "            ndarray = ndarray.mean(-1*(i+1))\n",
    "    return ndarray"
   ]
  },
  {
   "cell_type": "code",
   "execution_count": 6,
   "metadata": {},
   "outputs": [],
   "source": [
    "d = bin_ndarray(a, new_shape=(10,10), operation='mean')"
   ]
  },
  {
   "cell_type": "code",
   "execution_count": 7,
   "metadata": {},
   "outputs": [],
   "source": [
    "def resize_array(a, new_rows, new_cols): \n",
    "    '''\n",
    "    This function takes an 2D numpy array a and produces a smaller array \n",
    "    of size new_rows, new_cols. new_rows and new_cols must be less than \n",
    "    or equal to the number of rows and columns in a.\n",
    "    '''\n",
    "    rows = len(a)\n",
    "    cols = len(a[0])\n",
    "    yscale = float(rows) / new_rows \n",
    "    xscale = float(cols) / new_cols\n",
    "\n",
    "    # first average across the cols to shorten rows    \n",
    "    new_a = np.zeros((rows, new_cols)) \n",
    "    for j in range(new_cols):\n",
    "        # get the indices of the original array we are going to average across\n",
    "        the_x_range = (j*xscale, (j+1)*xscale)\n",
    "        firstx = int(the_x_range[0])\n",
    "        lastx = int(the_x_range[1])\n",
    "        # figure out the portion of the first and last index that overlap\n",
    "        # with the new index, and thus the portion of those cells that \n",
    "        # we need to include in our average\n",
    "        x0_scale = 1 - (the_x_range[0]-int(the_x_range[0]))\n",
    "        xEnd_scale =  (the_x_range[1]-int(the_x_range[1]))\n",
    "        # scale_line is a 1d array that corresponds to the portion of each old\n",
    "        # index in the_x_range that should be included in the new average\n",
    "        scale_line = np.ones((lastx-firstx+1))\n",
    "        scale_line[0] = x0_scale\n",
    "        scale_line[-1] = xEnd_scale\n",
    "        # Make sure you don't screw up and include an index that is too large\n",
    "        # for the array. This isn't great, as there could be some floating\n",
    "        # point errors that mess up this comparison.\n",
    "        if scale_line[-1] == 0:\n",
    "            scale_line = scale_line[:-1]\n",
    "            lastx = lastx - 1\n",
    "        # Now it's linear algebra time. Take the dot product of a slice of\n",
    "        # the original array and the scale_line\n",
    "        new_a[:,j] = np.dot(a[:,firstx:lastx+1], scale_line)/scale_line.sum()\n",
    "\n",
    "    # Then average across the rows to shorten the cols. Same method as above.\n",
    "    # It is probably possible to simplify this code, as this is more or less\n",
    "    # the same procedure as the block of code above, but transposed.\n",
    "    # Here I'm reusing the variable a. Sorry if that's confusing.\n",
    "    a = np.zeros((new_rows, new_cols))\n",
    "    for i in range(new_rows):\n",
    "        the_y_range = (i*yscale, (i+1)*yscale)\n",
    "        firsty = int(the_y_range[0])\n",
    "        lasty = int(the_y_range[1])\n",
    "        y0_scale = 1 - (the_y_range[0]-int(the_y_range[0]))\n",
    "        yEnd_scale =  (the_y_range[1]-int(the_y_range[1]))\n",
    "        scale_line = np.ones((lasty-firsty+1))\n",
    "        scale_line[0] = y0_scale\n",
    "        scale_line[-1] = yEnd_scale\n",
    "        if scale_line[-1] == 0:\n",
    "            scale_line = scale_line[:-1]\n",
    "            lasty = lasty - 1\n",
    "        a[i:,] = np.dot(scale_line, new_a[firsty:lasty+1,])/scale_line.sum() \n",
    "\n",
    "    return a"
   ]
  },
  {
   "cell_type": "code",
   "execution_count": 8,
   "metadata": {},
   "outputs": [],
   "source": [
    "c = resize_array(b, 20, 20)"
   ]
  },
  {
   "cell_type": "code",
   "execution_count": 9,
   "metadata": {},
   "outputs": [
    {
     "data": {
      "text/plain": [
       "(20, 20)"
      ]
     },
     "execution_count": 9,
     "metadata": {},
     "output_type": "execute_result"
    }
   ],
   "source": [
    "c.shape"
   ]
  },
  {
   "cell_type": "code",
   "execution_count": 10,
   "metadata": {},
   "outputs": [
    {
     "data": {
      "image/png": "[encoded data removed]",
      "text/plain": [
       "<Figure size 432x288 with 1 Axes>"
      ]
     },
     "metadata": {},
     "output_type": "display_data"
    },
    {
     "data": {
      "image/png": "[encoded data removed]",
      "text/plain": [
       "<Figure size 432x288 with 1 Axes>"
      ]
     },
     "metadata": {},
     "output_type": "display_data"
    }
   ],
   "source": [
    "plt.imshow(b, cmap='hot', interpolation='nearest')\n",
    "plt.show()\n",
    "plt.close()\n",
    "plt.imshow(c, cmap='hot', interpolation='nearest')\n",
    "plt.show()\n",
    "plt.close()\n"
   ]
  },
  {
   "cell_type": "code",
   "execution_count": 11,
   "metadata": {},
   "outputs": [],
   "source": [
    "j = 14\n",
    "k = 3\n",
    "\n",
    "x = np.full((j,k), -4000)\n",
    "c[0:j, 0:k] = x\n",
    "\n",
    "y = np.full((k,j), -4000)\n",
    "c[0:k, 0:j] = y"
   ]
  },
  {
   "cell_type": "code",
   "execution_count": 12,
   "metadata": {},
   "outputs": [],
   "source": [
    "\n",
    "# print(c)"
   ]
  },
  {
   "cell_type": "code",
   "execution_count": 13,
   "metadata": {},
   "outputs": [
    {
     "data": {
      "image/png": "[encoded data removed]",
      "text/plain": [
       "<Figure size 432x288 with 1 Axes>"
      ]
     },
     "metadata": {},
     "output_type": "display_data"
    }
   ],
   "source": [
    "plt.imshow(c, cmap='hot', interpolation='nearest')\n",
    "plt.show()\n",
    "plt.close()"
   ]
  },
  {
   "cell_type": "code",
   "execution_count": null,
   "metadata": {},
   "outputs": [],
   "source": []
  },
  {
   "cell_type": "code",
   "execution_count": null,
   "metadata": {},
   "outputs": [],
   "source": []
  }
 ],
 "metadata": {
  "kernelspec": {
   "display_name": "Python 2",
   "language": "python",
   "name": "python2"
  },
  "language_info": {
   "codemirror_mode": {
    "name": "ipython",
    "version": 2
   },
   "file_extension": ".py",
   "mimetype": "text/x-python",
   "name": "python",
   "nbconvert_exporter": "python",
   "pygments_lexer": "ipython2",
   "version": "2.7.12"
  }
 },
 "nbformat": 4,
 "nbformat_minor": 2
}
