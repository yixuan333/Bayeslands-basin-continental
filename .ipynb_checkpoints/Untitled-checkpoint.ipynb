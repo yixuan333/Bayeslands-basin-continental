{
 "cells": [
  {
   "cell_type": "code",
   "execution_count": 5,
   "metadata": {},
   "outputs": [
    {
     "name": "stdout",
     "output_type": "stream",
     "text": [
      "12\n",
      "inse\n",
      "\n",
      "\n",
      "\n",
      "sd\n",
      "\n",
      "sd\n",
      "sd\n",
      "s\n",
      "ds\n",
      "\n",
      "s\n"
     ]
    }
   ],
   "source": [
    "T = int(raw_input().strip())\n",
    "\n",
    "L = []\n",
    "for t in range(T):\n",
    "    args = raw_input().strip().split(\" \")\n",
    "    if args[0] == \"append\":\n",
    "        L.append(int(args[1]))\n",
    "    elif args[0] == \"insert\":\n",
    "        L.insert(int(args[1]), int(args[2]))\n",
    "    elif args[0] == \"remove\":\n",
    "        L.remove(int(args[1]))\n",
    "    elif args[0] == \"pop\":\n",
    "        L.pop()\n",
    "    elif args[0] == \"sort\":\n",
    "        L.sort()\n",
    "    elif args[0] == \"reverse\":\n",
    "        L.reverse()\n",
    "    elif args[0] == \"print\":\n",
    "        print L"
   ]
  },
  {
   "cell_type": "code",
   "execution_count": null,
   "metadata": {},
   "outputs": [],
   "source": []
  }
 ],
 "metadata": {
  "kernelspec": {
   "display_name": "Python 2",
   "language": "python",
   "name": "python2"
  },
  "language_info": {
   "codemirror_mode": {
    "name": "ipython",
    "version": 2
   },
   "file_extension": ".py",
   "mimetype": "text/x-python",
   "name": "python",
   "nbconvert_exporter": "python",
   "pygments_lexer": "ipython2",
   "version": "2.7.15rc1"
  }
 },
 "nbformat": 4,
 "nbformat_minor": 2
}
