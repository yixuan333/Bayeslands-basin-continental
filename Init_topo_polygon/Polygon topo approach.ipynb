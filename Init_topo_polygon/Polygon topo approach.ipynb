{
 "cells": [
  {
   "cell_type": "code",
   "execution_count": null,
   "metadata": {},
   "outputs": [],
   "source": [
    "import numpy as np\n",
    "import random\n",
    "import time\n",
    "import operator\n",
    "import math \n",
    "from pylab import rcParams\n",
    "import copy\n",
    "from copy import deepcopy \n",
    "from pylab import rcParams\n",
    "import collections\n",
    "from scipy import special\n",
    "import fnmatch\n",
    "import shutil\n",
    "from PIL import Image\n",
    "from io import StringIO\n",
    "from cycler import cycler\n",
    "import os\n",
    "import shutil\n",
    "import sys\n",
    "#!/usr/bin/python\n",
    "\n",
    "import threading\n",
    "import time\n"
   ]
  },
  {
   "cell_type": "code",
   "execution_count": null,
   "metadata": {},
   "outputs": [],
   "source": [
    "def dummy_func():\n",
    "    print ('hello')"
   ]
  },
  {
   "cell_type": "code",
   "execution_count": null,
   "metadata": {},
   "outputs": [],
   "source": [
    "dummy_func()"
   ]
  },
  {
   "cell_type": "code",
   "execution_count": null,
   "metadata": {},
   "outputs": [],
   "source": [
    "\n",
    "\n",
    "class myThread (threading.Thread):\n",
    "    def __init__(self, threadID, name, counter):\n",
    "        threading.Thread.__init__(self)\n",
    "        self.threadID = threadID\n",
    "        self.name = name\n",
    "        self.counter = counter\n",
    "        self.bashCommand = \"sh ptopo.sh -t %s\" %(name)\n",
    "    def run(self):\n",
    "        print (\"Starting \" + self.name)\n",
    "        # Get lock to synchronize threads\n",
    "        threadLock.acquire()\n",
    "        print_time(self.name, self.counter, self.bashCommand ,3)\n",
    "        # Free lock to release next thread\n",
    "        threadLock.release()\n",
    "\n",
    "def print_time(threadName, delay, self.bashCommand ,counter):\n",
    "    while counter:\n",
    "        time.sleep(delay)\n",
    "        print( \"%s: %s\" % (threadName, time.ctime(time.time())))\n",
    "        counter -= 1\n",
    "        print('Bash Command - ', self.bashCommand)\n",
    "      \n",
    "      \n",
    "\n",
    "threadLock = threading.Lock()\n",
    "threads = []\n",
    "\n",
    "# Create new threads\n",
    "thread1 = myThread(1, \"Thread-1\", 1)\n",
    "thread2 = myThread(2, \"Thread-2\", 2)\n",
    "\n",
    "# Start new Threads\n",
    "thread1.start()\n",
    "thread2.start()\n",
    "\n",
    "# Add threads to thread list\n",
    "threads.append(thread1)\n",
    "threads.append(thread2)\n",
    "\n",
    "# Wait for all threads to complete\n",
    "for t in threads:\n",
    "    t.join()\n",
    "print (\"Exiting Main Thread\")"
   ]
  },
  {
   "cell_type": "code",
   "execution_count": null,
   "metadata": {},
   "outputs": [],
   "source": []
  }
 ],
 "metadata": {
  "kernelspec": {
   "display_name": "Python 3",
   "language": "python",
   "name": "python3"
  },
  "language_info": {
   "codemirror_mode": {
    "name": "ipython",
    "version": 3
   },
   "file_extension": ".py",
   "mimetype": "text/x-python",
   "name": "python",
   "nbconvert_exporter": "python",
   "pygments_lexer": "ipython3",
   "version": "3.7.3"
  }
 },
 "nbformat": 4,
 "nbformat_minor": 2
}
